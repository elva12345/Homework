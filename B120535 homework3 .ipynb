{
  "nbformat": 4,
  "nbformat_minor": 0,
  "metadata": {
    "colab": {
      "provenance": []
    },
    "kernelspec": {
      "name": "python3",
      "display_name": "Python 3"
    },
    "language_info": {
      "name": "python"
    }
  },
  "cells": [
    {
      "cell_type": "code",
      "execution_count": null,
      "metadata": {
        "colab": {
          "base_uri": "https://localhost:8080/"
        },
        "id": "kJD_GyxP5b4p",
        "outputId": "22ae9618-2b09-44fb-8fa8-d45068089038"
      },
      "outputs": [
        {
          "output_type": "stream",
          "name": "stdout",
          "text": [
            "謝沛瑩 B1205035\n",
            "<class 'str'>\n"
          ]
        }
      ],
      "source": [
        "name=\"謝沛瑩 B1205035\"\n",
        "print (name)\n",
        "print(type(name))"
      ]
    },
    {
      "cell_type": "code",
      "source": [
        "name=[\"謝沛瑩\",\"B1205035\"]\n",
        "print(name)"
      ],
      "metadata": {
        "colab": {
          "base_uri": "https://localhost:8080/"
        },
        "id": "pJ3yLgjG_Clw",
        "outputId": "9cc223ba-8c7f-4245-81bc-db789bc5b321"
      },
      "execution_count": null,
      "outputs": [
        {
          "output_type": "stream",
          "name": "stdout",
          "text": [
            "['謝沛瑩', 'B1205035']\n"
          ]
        }
      ]
    }
  ]
}