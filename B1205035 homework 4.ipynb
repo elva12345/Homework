{
  "nbformat": 4,
  "nbformat_minor": 0,
  "metadata": {
    "colab": {
      "provenance": []
    },
    "kernelspec": {
      "name": "python3",
      "display_name": "Python 3"
    },
    "language_info": {
      "name": "python"
    }
  },
  "cells": [
    {
      "cell_type": "code",
      "execution_count": null,
      "metadata": {
        "colab": {
          "base_uri": "https://localhost:8080/"
        },
        "id": "XDZppKOnBbYq",
        "outputId": "e6c77280-53f7-4b29-d418-27c7c529fa8a"
      },
      "outputs": [
        {
          "output_type": "stream",
          "name": "stdout",
          "text": [
            "輸入範圍5\n",
            "1 × 1= 1\n",
            "1 × 2= 2\n",
            "1 × 3= 3\n",
            "1 × 4= 4\n",
            "1 × 5= 5\n",
            "2 × 1= 2\n",
            "2 × 2= 4\n",
            "2 × 3= 6\n",
            "2 × 4= 8\n",
            "2 × 5= 10\n",
            "3 × 1= 3\n",
            "3 × 2= 6\n",
            "3 × 3= 9\n",
            "3 × 4= 12\n",
            "3 × 5= 15\n",
            "4 × 1= 4\n",
            "4 × 2= 8\n",
            "4 × 3= 12\n",
            "4 × 4= 16\n",
            "4 × 5= 20\n",
            "5 × 1= 5\n",
            "5 × 2= 10\n",
            "5 × 3= 15\n",
            "5 × 4= 20\n",
            "5 × 5= 25\n"
          ]
        }
      ],
      "source": [
        "number= int(input(\"輸入範圍\"))\n",
        "for i in range(1, number+1):\n",
        "  for j in range(1, number+1):\n",
        "       product=i * j\n",
        "       print(f\"{i} × {j}= {product}\")"
      ]
    },
    {
      "cell_type": "code",
      "source": [
        "import random\n",
        "# 生成一個隨機數字，這是要猜的數字\n",
        "target_number=random.randint(1,100)\n",
        "\n",
        "print(\"歡迎參加猜數字遊戲！\")\n",
        "ans=0\n",
        "while ans==0:\n",
        "  guess=int(input(\"your number\"))\n",
        "  if guess > target_number:\n",
        "    print(\"too high\")\n",
        "  elif guess < target_number:\n",
        "      print(\"too low\")\n",
        "  else:\n",
        "        print(f\"bingo! Its {target_number}\")\n",
        "        ans = 5\n",
        "print(\"遊戲結束\")\n"
      ],
      "metadata": {
        "colab": {
          "base_uri": "https://localhost:8080/"
        },
        "id": "gG3YxuBNFmp1",
        "outputId": "a01d8d60-24e9-4fbc-c70f-cfd5f0e21918"
      },
      "execution_count": 11,
      "outputs": [
        {
          "output_type": "stream",
          "name": "stdout",
          "text": [
            "歡迎參加猜數字遊戲！\n",
            "your number3\n",
            "too low\n",
            "your number10\n",
            "too low\n",
            "your number5\n",
            "too low\n",
            "your number100\n",
            "too high\n",
            "your number39\n",
            "too high\n",
            "your number25\n",
            "too high\n",
            "your number15\n",
            "too high\n",
            "your number12\n",
            "too low\n",
            "your number13\n",
            "bingo! Its 13\n",
            "遊戲結束\n"
          ]
        }
      ]
    },
    {
      "cell_type": "code",
      "source": [],
      "metadata": {
        "id": "RLV0BC4kJS6r"
      },
      "execution_count": null,
      "outputs": []
    }
  ]
}