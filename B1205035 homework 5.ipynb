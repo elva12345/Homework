{
  "nbformat": 4,
  "nbformat_minor": 0,
  "metadata": {
    "colab": {
      "provenance": []
    },
    "kernelspec": {
      "name": "python3",
      "display_name": "Python 3"
    },
    "language_info": {
      "name": "python"
    }
  },
  "cells": [
    {
      "cell_type": "code",
      "execution_count": null,
      "metadata": {
        "colab": {
          "base_uri": "https://localhost:8080/"
        },
        "id": "naxHkAMwENBR",
        "outputId": "ca29a5f3-496e-40a9-dde7-433aeb359874"
      },
      "outputs": [
        {
          "output_type": "stream",
          "name": "stdout",
          "text": [
            "\n",
            "您想查詢什麼？(藥方名稱/出典/處方/效能/適應症/退出查詢)：藥方名稱\n",
            "五積散\n",
            "\n",
            "您想查詢什麼？(藥方名稱/出典/處方/效能/適應症/退出查詢)：出典\n",
            "五積散的出典為:太平惠民和劑局方\n",
            "\n",
            "您想查詢什麼？(藥方名稱/出典/處方/效能/適應症/退出查詢)：處方\n",
            "五積散的處方為:\n",
            "陳皮：2公克\n",
            "枳殼：2公克\n",
            "麻黃：2公克\n",
            "白芍：1公克\n",
            "川芎：1公克\n",
            "當歸：1公克\n",
            "炙甘草：1公克\n",
            "茯苓：1公克\n",
            "半夏：1公克\n",
            "肉桂：1公克\n",
            "白芷：1公克\n",
            "厚朴：1.5公克\n",
            "炮乾薑：1公克\n",
            "桔梗：4公克\n",
            "蒼朮：8公克\n",
            "總克數為：28.5公克\n",
            "\n",
            "您想查詢什麼？(藥方名稱/出典/處方/效能/適應症/退出查詢)：效能\n",
            "五積散的效能是:解表散寒、溫中消積\n",
            "\n",
            "您想查詢什麼？(藥方名稱/出典/處方/效能/適應症/退出查詢)：適應症\n",
            "五積散的適應症有:\n",
            "外感寒邪\n",
            "內傷生冷\n",
            "枝節疼痛\n",
            "\n",
            "您想查詢什麼？(藥方名稱/出典/處方/效能/適應症/退出查詢)：退出查詢\n",
            "感謝使用，再見！\n"
          ]
        }
      ],
      "source": [
        "# 定義六味地黃丸的資料\n",
        "prescription = {\n",
        "    '名稱': '五積散',\n",
        "    '出典': '太平惠民和劑局方',\n",
        "    '處方': {\n",
        "        '陳皮': 2,  # 公克\n",
        "        '枳殼': 2,\n",
        "        '麻黃': 2,\n",
        "        '白芍': 1,\n",
        "        '川芎': 1,\n",
        "        '當歸': 1,\n",
        "        '炙甘草':1,\n",
        "        '茯苓': 1,\n",
        "        '半夏': 1,\n",
        "        '肉桂': 1,\n",
        "        '白芷': 1,\n",
        "        '厚朴': 1.5,\n",
        "        '炮乾薑':1,\n",
        "        '桔梗': 4,\n",
        "        '蒼朮': 8,\n",
        "    },\n",
        "    '效能': '解表散寒、溫中消積',\n",
        "    '適應症': ['外感寒邪', '內傷生冷', '枝節疼痛']\n",
        "}\n",
        "\n",
        "# 使用 while 迴圈提供查詢服務\n",
        "while True:\n",
        "    query = input(\"\\n您想查詢什麼？(藥方名稱/出典/處方/效能/適應症/退出查詢)：\")\n",
        "\n",
        "    if query == \"藥方名稱\":\n",
        "        print(f\"{prescription['名稱']}\")\n",
        "    elif query == \"出典\":\n",
        "        print(f\"{prescription['名稱']}的出典為:{prescription['出典']}\")\n",
        "    elif query == \"適應症\":\n",
        "        print(f\"{prescription['名稱']}的適應症有:\")\n",
        "        for symptom in prescription['適應症']:\n",
        "            print(symptom)\n",
        "    elif query == \"處方\":\n",
        "        total_weight = sum(prescription['處方'].values())\n",
        "        print(f\"{prescription['名稱']}的處方為:\")\n",
        "        for medicine, weight in prescription['處方'].items():\n",
        "            print(f\"{medicine}：{weight}公克\")\n",
        "        print(f\"總克數為：{total_weight}公克\")\n",
        "    elif query == \"效能\":\n",
        "        print(f\"{prescription['名稱']}的效能是:{prescription['效能']}\")\n",
        "    elif query == \"退出查詢\":\n",
        "        print(\"感謝使用，再見！\")\n",
        "        break\n",
        "    else:\n",
        "        print(\"輸入無效，請重新輸入。\")"
      ]
    }
  ]
}